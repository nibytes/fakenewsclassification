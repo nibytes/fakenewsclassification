{
  "nbformat": 4,
  "nbformat_minor": 0,
  "metadata": {
    "colab": {
      "name": "fakenews.ipynb",
      "version": "0.3.2",
      "provenance": [],
      "toc_visible": true
    },
    "kernelspec": {
      "name": "python3",
      "display_name": "Python 3"
    },
    "accelerator": "GPU"
  },
  "cells": [
    {
      "cell_type": "markdown",
      "metadata": {
        "id": "_fqu39CgZ4Og",
        "colab_type": "text"
      },
      "source": [
        "## Import\n"
      ]
    },
    {
      "cell_type": "code",
      "metadata": {
        "id": "SAAjC_sBM2go",
        "colab_type": "code",
        "outputId": "a47dabed-1649-4d38-d3ef-40fe5b4b0e8b",
        "colab": {
          "base_uri": "https://localhost:8080/",
          "height": 899
        }
      },
      "source": [
        "import matplotlib.pyplot as plt\n",
        "import numpy as np\n",
        "import pandas as pd\n",
        "import keras\n",
        "from keras import backend as K\n",
        "from keras.utils import np_utils\n",
        "from keras.models import Sequential\n",
        "from keras.layers import Dense, Dropout, LSTM, Embedding, Input, RepeatVector\n",
        "from keras.optimizers import SGD\n",
        "from sklearn.preprocessing import LabelEncoder\n",
        "from sklearn.model_selection import train_test_split\n",
        "from utils import getEmbeddings\n",
        "import os\n",
        "import nltk\n",
        "nltk.download('popular')\n",
        "from sklearn.naive_bayes import GaussianNB\n",
        "from sklearn.svm import SVC"
      ],
      "execution_count": 38,
      "outputs": [
        {
          "output_type": "stream",
          "text": [
            "[nltk_data] Downloading collection 'popular'\n",
            "[nltk_data]    | \n",
            "[nltk_data]    | Downloading package cmudict to /root/nltk_data...\n",
            "[nltk_data]    |   Package cmudict is already up-to-date!\n",
            "[nltk_data]    | Downloading package gazetteers to /root/nltk_data...\n",
            "[nltk_data]    |   Package gazetteers is already up-to-date!\n",
            "[nltk_data]    | Downloading package genesis to /root/nltk_data...\n",
            "[nltk_data]    |   Package genesis is already up-to-date!\n",
            "[nltk_data]    | Downloading package gutenberg to /root/nltk_data...\n",
            "[nltk_data]    |   Package gutenberg is already up-to-date!\n",
            "[nltk_data]    | Downloading package inaugural to /root/nltk_data...\n",
            "[nltk_data]    |   Package inaugural is already up-to-date!\n",
            "[nltk_data]    | Downloading package movie_reviews to\n",
            "[nltk_data]    |     /root/nltk_data...\n",
            "[nltk_data]    |   Package movie_reviews is already up-to-date!\n",
            "[nltk_data]    | Downloading package names to /root/nltk_data...\n",
            "[nltk_data]    |   Package names is already up-to-date!\n",
            "[nltk_data]    | Downloading package shakespeare to /root/nltk_data...\n",
            "[nltk_data]    |   Package shakespeare is already up-to-date!\n",
            "[nltk_data]    | Downloading package stopwords to /root/nltk_data...\n",
            "[nltk_data]    |   Package stopwords is already up-to-date!\n",
            "[nltk_data]    | Downloading package treebank to /root/nltk_data...\n",
            "[nltk_data]    |   Package treebank is already up-to-date!\n",
            "[nltk_data]    | Downloading package twitter_samples to\n",
            "[nltk_data]    |     /root/nltk_data...\n",
            "[nltk_data]    |   Package twitter_samples is already up-to-date!\n",
            "[nltk_data]    | Downloading package omw to /root/nltk_data...\n",
            "[nltk_data]    |   Package omw is already up-to-date!\n",
            "[nltk_data]    | Downloading package wordnet to /root/nltk_data...\n",
            "[nltk_data]    |   Package wordnet is already up-to-date!\n",
            "[nltk_data]    | Downloading package wordnet_ic to /root/nltk_data...\n",
            "[nltk_data]    |   Package wordnet_ic is already up-to-date!\n",
            "[nltk_data]    | Downloading package words to /root/nltk_data...\n",
            "[nltk_data]    |   Package words is already up-to-date!\n",
            "[nltk_data]    | Downloading package maxent_ne_chunker to\n",
            "[nltk_data]    |     /root/nltk_data...\n",
            "[nltk_data]    |   Package maxent_ne_chunker is already up-to-date!\n",
            "[nltk_data]    | Downloading package punkt to /root/nltk_data...\n",
            "[nltk_data]    |   Package punkt is already up-to-date!\n",
            "[nltk_data]    | Downloading package snowball_data to\n",
            "[nltk_data]    |     /root/nltk_data...\n",
            "[nltk_data]    |   Package snowball_data is already up-to-date!\n",
            "[nltk_data]    | Downloading package averaged_perceptron_tagger to\n",
            "[nltk_data]    |     /root/nltk_data...\n",
            "[nltk_data]    |   Package averaged_perceptron_tagger is already up-\n",
            "[nltk_data]    |       to-date!\n",
            "[nltk_data]    | \n",
            "[nltk_data]  Done downloading collection popular\n"
          ],
          "name": "stdout"
        }
      ]
    },
    {
      "cell_type": "markdown",
      "metadata": {
        "id": "EuhT8j5laeo7",
        "colab_type": "text"
      },
      "source": [
        "## Load and prepare data"
      ]
    },
    {
      "cell_type": "code",
      "metadata": {
        "id": "31Klm_s0Nu4M",
        "colab_type": "code",
        "colab": {}
      },
      "source": [
        "if not os.path.isfile('./xtr.npy') or \\\n",
        "    not os.path.isfile('./xte.npy') or \\\n",
        "    not os.path.isfile('./ytr.npy') or \\\n",
        "    not os.path.isfile('./yte.npy'):\n",
        "    xtr,xte,ytr,yte = getEmbeddings(\"fakeReal.csv\")\n",
        "    np.save('./xtr', xtr)\n",
        "    np.save('./xte', xte)\n",
        "    np.save('./ytr', ytr)\n",
        "    np.save('./yte', yte)\n",
        "\n",
        "xtr = np.load('./xtr.npy')\n",
        "xte = np.load('./xte.npy')\n",
        "ytr = np.load('./ytr.npy')\n",
        "yte = np.load('./yte.npy')"
      ],
      "execution_count": 0,
      "outputs": []
    },
    {
      "cell_type": "markdown",
      "metadata": {
        "id": "aDYtWJF0caSp",
        "colab_type": "text"
      },
      "source": [
        "# Naive Bayes Model"
      ]
    },
    {
      "cell_type": "code",
      "metadata": {
        "id": "XrI9HEzTcnA5",
        "colab_type": "code",
        "outputId": "b50b6a5d-f5e2-4a22-db2f-3ea094101c6e",
        "colab": {
          "base_uri": "https://localhost:8080/",
          "height": 35
        }
      },
      "source": [
        "gnb = GaussianNB()\n",
        "gnb.fit(xtr,ytr)\n",
        "y_pred = gnb.predict(xte)\n",
        "m = yte.shape[0]\n",
        "n = (yte != y_pred).sum()\n",
        "print(\"Accuracy = \" + format((m-n)/m*100, '.2f') + \"%\")"
      ],
      "execution_count": 29,
      "outputs": [
        {
          "output_type": "stream",
          "text": [
            "Accuracy = 79.79%\n"
          ],
          "name": "stdout"
        }
      ]
    },
    {
      "cell_type": "markdown",
      "metadata": {
        "id": "vLfqrdeUb-H1",
        "colab_type": "text"
      },
      "source": [
        "# Support Vector Machine (SVM)"
      ]
    },
    {
      "cell_type": "code",
      "metadata": {
        "id": "9Q8NbqHscH92",
        "colab_type": "code",
        "outputId": "a67d332d-8422-4111-eb00-fead3e3ecb63",
        "colab": {
          "base_uri": "https://localhost:8080/",
          "height": 92
        }
      },
      "source": [
        "clf = SVC()\n",
        "clf.fit(xtr, ytr)\n",
        "y_pred = clf.predict(xte)\n",
        "m = yte.shape[0]\n",
        "n = (yte != y_pred).sum()\n",
        "print(\"Accuracy = \" + format((m-n)/m*100, '.2f') + \"%\") ;"
      ],
      "execution_count": 30,
      "outputs": [
        {
          "output_type": "stream",
          "text": [
            "/usr/local/lib/python3.6/dist-packages/sklearn/svm/base.py:193: FutureWarning: The default value of gamma will change from 'auto' to 'scale' in version 0.22 to account better for unscaled features. Set gamma explicitly to 'auto' or 'scale' to avoid this warning.\n",
            "  \"avoid this warning.\", FutureWarning)\n"
          ],
          "name": "stderr"
        },
        {
          "output_type": "stream",
          "text": [
            "Accuracy = 85.40%\n"
          ],
          "name": "stdout"
        }
      ]
    },
    {
      "cell_type": "markdown",
      "metadata": {
        "id": "iZnRXXn2aNvL",
        "colab_type": "text"
      },
      "source": [
        "# Neural net with Keras"
      ]
    },
    {
      "cell_type": "markdown",
      "metadata": {
        "id": "zk6F1IuTZ-Sy",
        "colab_type": "text"
      },
      "source": [
        "## Costruct model"
      ]
    },
    {
      "cell_type": "code",
      "metadata": {
        "id": "AcCy6vAwNOka",
        "colab_type": "code",
        "colab": {}
      },
      "source": [
        "def create_model():\n",
        "    '''Neural network with 3 hidden layers'''\n",
        "    model = Sequential()\n",
        "    model.add(Dense(256, input_dim=300, activation='relu', kernel_initializer='normal'))\n",
        "    model.add(Dropout(0.3))\n",
        "    model.add(Dense(256, activation='relu', kernel_initializer='normal'))\n",
        "    model.add(Dropout(0.5))\n",
        "    model.add(Dense(80, activation='relu', kernel_initializer='normal'))\n",
        "    model.add(Dense(2, activation=\"softmax\", kernel_initializer='normal'))\n",
        "\n",
        "    # gradient descent\n",
        "    sgd = SGD(lr=0.01, decay=1e-6, momentum=0.9, nesterov=True)\n",
        "    \n",
        "    # configure the learning process of the model\n",
        "    model.compile(loss='categorical_crossentropy', optimizer=sgd, metrics=['accuracy'])\n",
        "    return model"
      ],
      "execution_count": 0,
      "outputs": []
    },
    {
      "cell_type": "markdown",
      "metadata": {
        "id": "hKLGlABWamlG",
        "colab_type": "text"
      },
      "source": [
        "## Model intialization"
      ]
    },
    {
      "cell_type": "code",
      "metadata": {
        "id": "TXkTq_KDYgRJ",
        "colab_type": "code",
        "outputId": "855cdb55-fc3d-43ba-fcc2-f6f36e700b57",
        "colab": {
          "base_uri": "https://localhost:8080/",
          "height": 366
        }
      },
      "source": [
        "model = create_model()\n",
        "model.summary()\n"
      ],
      "execution_count": 32,
      "outputs": [
        {
          "output_type": "stream",
          "text": [
            "_________________________________________________________________\n",
            "Layer (type)                 Output Shape              Param #   \n",
            "=================================================================\n",
            "dense_5 (Dense)              (None, 256)               77056     \n",
            "_________________________________________________________________\n",
            "dropout_3 (Dropout)          (None, 256)               0         \n",
            "_________________________________________________________________\n",
            "dense_6 (Dense)              (None, 256)               65792     \n",
            "_________________________________________________________________\n",
            "dropout_4 (Dropout)          (None, 256)               0         \n",
            "_________________________________________________________________\n",
            "dense_7 (Dense)              (None, 80)                20560     \n",
            "_________________________________________________________________\n",
            "dense_8 (Dense)              (None, 2)                 162       \n",
            "=================================================================\n",
            "Total params: 163,570\n",
            "Trainable params: 163,570\n",
            "Non-trainable params: 0\n",
            "_________________________________________________________________\n"
          ],
          "name": "stdout"
        }
      ]
    },
    {
      "cell_type": "markdown",
      "metadata": {
        "id": "C4I9vfhVbBU2",
        "colab_type": "text"
      },
      "source": [
        "## Split data for train and test, label encoding"
      ]
    },
    {
      "cell_type": "code",
      "metadata": {
        "id": "Jq3b9MDaZD9K",
        "colab_type": "code",
        "outputId": "3c47e3ed-4bf1-46e8-b212-2f41afbd5b52",
        "colab": {
          "base_uri": "https://localhost:8080/",
          "height": 35
        }
      },
      "source": [
        "x_train, x_test, y_train, y_test = train_test_split(xtr, ytr, test_size=0.2, random_state=42)\n",
        "label_encoder = LabelEncoder()\n",
        "label_encoder.fit(y_train)"
      ],
      "execution_count": 33,
      "outputs": [
        {
          "output_type": "execute_result",
          "data": {
            "text/plain": [
              "LabelEncoder()"
            ]
          },
          "metadata": {
            "tags": []
          },
          "execution_count": 33
        }
      ]
    },
    {
      "cell_type": "markdown",
      "metadata": {
        "id": "9Mpb43ovbgHa",
        "colab_type": "text"
      },
      "source": [
        "## Converts a class vector (integers) to binary class matrix."
      ]
    },
    {
      "cell_type": "code",
      "metadata": {
        "id": "HlN18m-VZWti",
        "colab_type": "code",
        "colab": {}
      },
      "source": [
        "encoded_y = np_utils.to_categorical((label_encoder.transform(y_train)))\n",
        "label_encoder.fit(y_test)\n",
        "encoded_y_test = np_utils.to_categorical((label_encoder.transform(y_test)))"
      ],
      "execution_count": 0,
      "outputs": []
    },
    {
      "cell_type": "markdown",
      "metadata": {
        "id": "4Qs_KDdQbl9j",
        "colab_type": "text"
      },
      "source": [
        "## Model fitting"
      ]
    },
    {
      "cell_type": "code",
      "metadata": {
        "id": "6XclfeI-ZX6O",
        "colab_type": "code",
        "outputId": "ce80c3a3-9d79-4768-de15-b8b6511ff888",
        "colab": {
          "base_uri": "https://localhost:8080/",
          "height": 752
        }
      },
      "source": [
        "estimator = model.fit(x_train, encoded_y, epochs=20, batch_size=64)"
      ],
      "execution_count": 35,
      "outputs": [
        {
          "output_type": "stream",
          "text": [
            "Epoch 1/20\n",
            "4054/4054 [==============================] - 1s 140us/step - loss: 0.6801 - acc: 0.5686\n",
            "Epoch 2/20\n",
            "4054/4054 [==============================] - 0s 83us/step - loss: 0.5448 - acc: 0.7728\n",
            "Epoch 3/20\n",
            "4054/4054 [==============================] - 0s 76us/step - loss: 0.3635 - acc: 0.8347\n",
            "Epoch 4/20\n",
            "4054/4054 [==============================] - 0s 78us/step - loss: 0.3237 - acc: 0.8569\n",
            "Epoch 5/20\n",
            "4054/4054 [==============================] - 0s 79us/step - loss: 0.2931 - acc: 0.8737\n",
            "Epoch 6/20\n",
            "4054/4054 [==============================] - 0s 77us/step - loss: 0.2905 - acc: 0.8777\n",
            "Epoch 7/20\n",
            "4054/4054 [==============================] - 0s 78us/step - loss: 0.2799 - acc: 0.8823\n",
            "Epoch 8/20\n",
            "4054/4054 [==============================] - 0s 80us/step - loss: 0.2765 - acc: 0.8828\n",
            "Epoch 9/20\n",
            "4054/4054 [==============================] - 0s 78us/step - loss: 0.2644 - acc: 0.8833\n",
            "Epoch 10/20\n",
            "4054/4054 [==============================] - 0s 75us/step - loss: 0.2585 - acc: 0.8897\n",
            "Epoch 11/20\n",
            "4054/4054 [==============================] - 0s 79us/step - loss: 0.2546 - acc: 0.8939\n",
            "Epoch 12/20\n",
            "4054/4054 [==============================] - 0s 76us/step - loss: 0.2500 - acc: 0.8959\n",
            "Epoch 13/20\n",
            "4054/4054 [==============================] - 0s 76us/step - loss: 0.2459 - acc: 0.9011\n",
            "Epoch 14/20\n",
            "4054/4054 [==============================] - 0s 76us/step - loss: 0.2420 - acc: 0.8999\n",
            "Epoch 15/20\n",
            "4054/4054 [==============================] - 0s 80us/step - loss: 0.2370 - acc: 0.9036\n",
            "Epoch 16/20\n",
            "4054/4054 [==============================] - 0s 76us/step - loss: 0.2344 - acc: 0.9003\n",
            "Epoch 17/20\n",
            "4054/4054 [==============================] - 0s 78us/step - loss: 0.2336 - acc: 0.9013\n",
            "Epoch 18/20\n",
            "4054/4054 [==============================] - 0s 80us/step - loss: 0.2329 - acc: 0.9043\n",
            "Epoch 19/20\n",
            "4054/4054 [==============================] - 0s 76us/step - loss: 0.2313 - acc: 0.9053\n",
            "Epoch 20/20\n",
            "4054/4054 [==============================] - 0s 81us/step - loss: 0.2234 - acc: 0.9045\n"
          ],
          "name": "stdout"
        }
      ]
    },
    {
      "cell_type": "markdown",
      "metadata": {
        "id": "56RrOkl7bye-",
        "colab_type": "text"
      },
      "source": [
        "## Check results"
      ]
    },
    {
      "cell_type": "code",
      "metadata": {
        "id": "WNV1IFgoZf36",
        "colab_type": "code",
        "outputId": "e31eb3b1-b59e-45e0-c8a8-bde81cc776c9",
        "colab": {
          "base_uri": "https://localhost:8080/",
          "height": 54
        }
      },
      "source": [
        "score = model.evaluate(x_test, encoded_y_test)\n",
        "print(\"Accuracy = \" + format(score[1]*100, '.2f') + \"%\")   "
      ],
      "execution_count": 36,
      "outputs": [
        {
          "output_type": "stream",
          "text": [
            "1014/1014 [==============================] - 0s 140us/step\n",
            "Accuracy = 90.43%\n"
          ],
          "name": "stdout"
        }
      ]
    },
    {
      "cell_type": "code",
      "metadata": {
        "id": "-sqrGK1LoDq7",
        "colab_type": "code",
        "colab": {
          "base_uri": "https://localhost:8080/",
          "height": 35
        },
        "outputId": "5397df37-8b77-4bcf-a1c7-5ff184e66330"
      },
      "source": [
        "x_test[100].reshape(-1,1).shape"
      ],
      "execution_count": 66,
      "outputs": [
        {
          "output_type": "execute_result",
          "data": {
            "text/plain": [
              "(300, 1)"
            ]
          },
          "metadata": {
            "tags": []
          },
          "execution_count": 66
        }
      ]
    },
    {
      "cell_type": "code",
      "metadata": {
        "id": "rUMUhmC7sXMK",
        "colab_type": "code",
        "colab": {
          "base_uri": "https://localhost:8080/",
          "height": 1000
        },
        "outputId": "bbce32df-e915-4e62-a104-c367f6570bc5"
      },
      "source": [
        "x_test[85].reshape(1,-1)"
      ],
      "execution_count": 70,
      "outputs": [
        {
          "output_type": "execute_result",
          "data": {
            "text/plain": [
              "array([[ 1.53250873e-01, -4.43218686e-02, -3.31966043e-01,\n",
              "        -1.37849927e-01, -3.70268196e-01, -2.12997824e-01,\n",
              "        -1.06189713e-01, -1.87523533e-02,  7.77944252e-02,\n",
              "        -2.73529440e-01,  2.64761239e-01,  1.71496272e-01,\n",
              "        -5.68335801e-02, -1.09186783e-01,  1.66402847e-01,\n",
              "         1.16373330e-01,  3.52148980e-01, -1.38787895e-01,\n",
              "        -3.43667120e-01, -3.94975811e-01, -2.02459767e-01,\n",
              "         2.54456811e-02, -8.30528364e-02, -4.76050451e-02,\n",
              "        -1.13141023e-01, -2.82045722e-01, -2.28973299e-01,\n",
              "        -2.44740695e-01, -2.67489165e-01,  5.27436852e-01,\n",
              "         1.73873872e-01, -2.06270233e-01, -1.98520869e-01,\n",
              "         2.44539246e-01, -6.07778072e-01, -2.29894802e-01,\n",
              "        -1.21521614e-01, -4.76822108e-01, -8.37116539e-02,\n",
              "         1.72706619e-01, -6.71446174e-02, -1.39223590e-01,\n",
              "        -2.55039990e-01,  5.82374215e-01,  3.54930282e-01,\n",
              "        -5.54421186e-01, -2.71880720e-03, -2.63425767e-01,\n",
              "         3.68882507e-01,  3.94606501e-01, -1.40710577e-01,\n",
              "        -1.30883604e-01,  2.41330750e-02,  1.15783706e-01,\n",
              "         7.94657767e-02,  1.26644790e-01,  6.23244166e-01,\n",
              "        -2.45631218e-01, -1.57890275e-01,  2.01362580e-01,\n",
              "        -1.76822599e-02, -7.99883157e-02, -1.63063526e-01,\n",
              "         2.11092811e-02,  1.68648779e-01,  2.69673049e-01,\n",
              "        -3.86503935e-02,  2.47627288e-01,  5.26395738e-01,\n",
              "         1.08143367e-01,  1.44480318e-01,  1.41609401e-01,\n",
              "        -1.12097710e-01, -1.37522966e-01,  1.08246639e-01,\n",
              "        -8.50475132e-02,  1.57756060e-01,  2.51891345e-01,\n",
              "         1.96046963e-01, -2.48258770e-01, -1.77492633e-01,\n",
              "        -2.12077349e-01,  1.71907872e-01, -2.86072820e-01,\n",
              "        -6.41163364e-02,  1.45514999e-02,  2.04973578e-01,\n",
              "         2.19288677e-01, -6.20738976e-02,  1.27457613e-02,\n",
              "         6.00236505e-02,  3.74245226e-01,  1.34126544e-01,\n",
              "         1.45051271e-01, -1.33618206e-01, -2.86317766e-01,\n",
              "        -2.46574491e-01, -2.85018478e-02,  1.69108231e-02,\n",
              "         3.27009648e-01, -1.31722122e-01,  5.17328560e-01,\n",
              "         9.66806635e-02,  2.89639294e-01, -1.31144002e-01,\n",
              "         3.11036557e-01, -3.99670750e-01, -1.04582924e-02,\n",
              "        -1.21016212e-01,  5.46854064e-02, -4.94987339e-01,\n",
              "        -1.77047928e-04, -3.16430598e-01, -7.59826899e-02,\n",
              "         2.60369897e-01,  1.17665872e-01, -3.82277034e-02,\n",
              "        -1.77968100e-01,  2.79796749e-01, -2.71158546e-01,\n",
              "         1.31854400e-01, -2.72004932e-01,  2.55733520e-01,\n",
              "        -2.99051911e-01,  1.29294708e-01, -2.44724333e-01,\n",
              "        -3.23375165e-01,  1.99150205e-01, -9.50448215e-02,\n",
              "         7.27183461e-01,  4.36546087e-01, -1.74792513e-01,\n",
              "        -6.51098788e-03,  1.11126795e-03,  3.36727388e-02,\n",
              "         2.71284133e-01,  2.77378619e-01,  2.08858147e-01,\n",
              "         1.04738332e-01, -3.75554971e-02, -2.61284292e-01,\n",
              "        -3.77213329e-01,  2.42454290e-01, -1.71677053e-01,\n",
              "        -1.23031735e-02,  5.47754228e-01, -1.10386238e-01,\n",
              "         3.51175740e-02,  1.78101301e-01, -3.15197289e-01,\n",
              "        -1.38897644e-02,  2.14230586e-02, -4.40151282e-02,\n",
              "        -1.50696501e-01,  1.51532173e-01,  5.50887361e-02,\n",
              "        -4.02958952e-02, -2.76315250e-02, -3.35523725e-01,\n",
              "         1.13082983e-01,  7.63210505e-02,  1.88262776e-01,\n",
              "        -5.63332532e-03,  5.78047223e-02, -2.70372741e-02,\n",
              "        -1.53745309e-01,  1.61096916e-01, -2.25866094e-01,\n",
              "        -4.31367993e-01,  2.54575878e-01, -8.72531682e-02,\n",
              "         2.12076843e-01, -1.95433483e-01,  3.94116640e-02,\n",
              "         7.78807774e-02,  1.24502741e-01,  4.88561802e-02,\n",
              "         2.94429064e-01,  1.82075888e-01, -4.64686751e-02,\n",
              "        -1.21305756e-01, -1.50562733e-01, -4.60307226e-02,\n",
              "         1.83838829e-01,  2.36752015e-02,  2.06502870e-01,\n",
              "         8.34980160e-02,  3.32089543e-01, -1.37793317e-01,\n",
              "         1.57042876e-01, -2.05976546e-01,  3.32927942e-01,\n",
              "         8.65488574e-02, -2.07645595e-01,  1.19471118e-01,\n",
              "        -8.61561447e-02, -1.18606746e-01,  6.84438795e-02,\n",
              "         1.46694362e-01,  1.08747639e-01, -1.86737090e-01,\n",
              "         7.56607503e-02,  1.71632171e-01, -3.57944846e-01,\n",
              "        -3.27646464e-01, -4.74765301e-02,  1.87841013e-01,\n",
              "        -8.26637149e-02, -1.19054392e-02, -1.55483201e-01,\n",
              "         1.65751010e-01,  1.50232697e-02, -2.01628834e-01,\n",
              "        -4.88712311e-01,  2.16271833e-01,  4.58125062e-02,\n",
              "         4.09115225e-01, -2.54456371e-01,  1.14548147e-01,\n",
              "         2.31126025e-01,  8.70977119e-02, -1.12237498e-01,\n",
              "        -2.79303998e-01, -2.58095786e-02, -1.26997828e-01,\n",
              "         2.17630029e-01, -2.92277366e-01,  2.53175683e-02,\n",
              "         8.59209225e-02, -7.85667449e-02,  4.59768802e-01,\n",
              "         1.86475918e-01,  6.10717805e-03, -1.03150733e-01,\n",
              "         7.69417360e-02, -1.95336808e-02,  2.49824688e-01,\n",
              "         2.26082981e-01, -1.29799932e-01,  2.17312835e-02,\n",
              "         1.69872403e-01, -1.29006773e-01, -4.07245517e-01,\n",
              "         3.71721298e-01, -2.29878634e-01,  2.24067405e-01,\n",
              "        -3.01320031e-02,  1.97825372e-01,  4.76120412e-02,\n",
              "        -3.44996423e-01,  8.37739259e-02,  3.99351001e-01,\n",
              "        -6.52964488e-02,  1.36865508e-02,  6.60409108e-02,\n",
              "         1.83284760e-01,  2.76486039e-01, -4.47018892e-01,\n",
              "        -1.11972362e-01, -1.32567421e-01,  9.34255198e-02,\n",
              "         1.32440478e-01,  1.51803002e-01,  1.01066850e-01,\n",
              "         1.40166506e-01, -4.47513700e-01, -2.99003720e-01,\n",
              "         3.71391326e-01,  1.05694972e-01, -9.51426253e-02,\n",
              "         8.08698013e-02, -8.99185687e-02,  6.11359358e-01,\n",
              "        -1.07686296e-01, -4.32843193e-02, -8.06268901e-02,\n",
              "        -1.39649034e-01,  8.68717134e-02, -2.62034118e-01,\n",
              "         7.33692646e-02, -1.52040690e-01,  1.61033630e-01,\n",
              "        -1.14422709e-01, -6.50664032e-01,  1.40014231e-01,\n",
              "        -5.45707047e-01,  9.57123861e-02, -1.41425192e-01,\n",
              "         1.22018762e-01,  7.45489597e-02,  5.42634912e-02,\n",
              "        -2.59041101e-01, -3.42215598e-01,  1.05581187e-01,\n",
              "        -3.61770466e-02, -4.48377013e-01, -3.43087077e-01,\n",
              "         6.26711473e-02,  2.48118877e-01,  6.34316877e-02]])"
            ]
          },
          "metadata": {
            "tags": []
          },
          "execution_count": 70
        }
      ]
    },
    {
      "cell_type": "markdown",
      "metadata": {
        "id": "nw6CKL2_r03D",
        "colab_type": "text"
      },
      "source": [
        ""
      ]
    },
    {
      "cell_type": "code",
      "metadata": {
        "id": "ifexhj6jtBqY",
        "colab_type": "code",
        "colab": {}
      },
      "source": [
        "df = pd.read_csv('fakeReal.csv')\n",
        "x_train_, x_test, y_train, y_test = train_test_split(xtr, ytr, test_size=0.2, random_state=42)"
      ],
      "execution_count": 0,
      "outputs": []
    },
    {
      "cell_type": "code",
      "metadata": {
        "id": "sfLuGhVmn9N-",
        "colab_type": "code",
        "colab": {
          "base_uri": "https://localhost:8080/",
          "height": 54
        },
        "outputId": "40f72b2f-4c32-4549-92d8-4831d79372c5"
      },
      "source": [
        "model.predict_classes(x_test[85].reshape(1,-1), batch_size=64, verbose=1)"
      ],
      "execution_count": 69,
      "outputs": [
        {
          "output_type": "stream",
          "text": [
            "\r1/1 [==============================] - 0s 2ms/step\n"
          ],
          "name": "stdout"
        },
        {
          "output_type": "execute_result",
          "data": {
            "text/plain": [
              "array([1])"
            ]
          },
          "metadata": {
            "tags": []
          },
          "execution_count": 69
        }
      ]
    }
  ]
}